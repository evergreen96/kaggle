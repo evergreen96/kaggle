{
 "metadata": {
  "language_info": {
   "codemirror_mode": {
    "name": "ipython",
    "version": 3
   },
   "file_extension": ".py",
   "mimetype": "text/x-python",
   "name": "python",
   "nbconvert_exporter": "python",
   "pygments_lexer": "ipython3",
   "version": "3.7.8-final"
  },
  "orig_nbformat": 2,
  "kernelspec": {
   "name": "python_defaultSpec_1598285306645",
   "display_name": "Python 3.7.8 64-bit ('cmp_vision': conda)"
  }
 },
 "nbformat": 4,
 "nbformat_minor": 2,
 "cells": [
  {
   "cell_type": "code",
   "execution_count": 1,
   "metadata": {},
   "outputs": [],
   "source": [
    "import pandas as pd\n",
    "import numpy as np\n",
    "import matplotlib.pyplot as plt"
   ]
  },
  {
   "cell_type": "code",
   "execution_count": 2,
   "metadata": {},
   "outputs": [
    {
     "output_type": "execute_result",
     "data": {
      "text/plain": "        id  digit letter  0  1  2  3  4  5  6  ...  774  775  776  777  778  \\\n0        1      5      L  1  1  1  4  3  0  0  ...    2    1    0    1    2   \n1        2      0      B  0  4  0  0  4  1  1  ...    0    3    0    1    4   \n2        3      4      L  1  1  2  2  1  1  1  ...    3    3    3    0    2   \n3        4      9      D  1  2  0  2  0  4  0  ...    3    3    2    0    1   \n4        5      6      A  3  0  2  4  0  3  0  ...    4    4    3    2    1   \n...    ...    ...    ... .. .. .. .. .. .. ..  ...  ...  ...  ...  ...  ...   \n2043  2044      6      V  2  4  3  4  2  4  4  ...    0    2    2    0    0   \n2044  2045      1      L  3  2  2  1  1  4  0  ...    2    3    4    2    1   \n2045  2046      9      A  4  0  4  0  2  4  4  ...    2    3    1    1    3   \n2046  2047      0      Z  2  3  3  0  3  0  4  ...    2    3    1    1    0   \n2047  2048      5      Z  4  2  2  1  3  0  0  ...    4    2    4    0    4   \n\n      779  780  781  782  783  \n0       4    4    4    3    4  \n1       1    4    2    1    2  \n2       0    3    0    2    2  \n3       4    0    0    1    1  \n4       3    4    3    1    2  \n...   ...  ...  ...  ...  ...  \n2043    1    3    1    4    0  \n2044    2    3    4    1    1  \n2045    4    2    2    0    0  \n2046    4    1    4    3    1  \n2047    3    2    4    3    4  \n\n[2048 rows x 787 columns]",
      "text/html": "<div>\n<style scoped>\n    .dataframe tbody tr th:only-of-type {\n        vertical-align: middle;\n    }\n\n    .dataframe tbody tr th {\n        vertical-align: top;\n    }\n\n    .dataframe thead th {\n        text-align: right;\n    }\n</style>\n<table border=\"1\" class=\"dataframe\">\n  <thead>\n    <tr style=\"text-align: right;\">\n      <th></th>\n      <th>id</th>\n      <th>digit</th>\n      <th>letter</th>\n      <th>0</th>\n      <th>1</th>\n      <th>2</th>\n      <th>3</th>\n      <th>4</th>\n      <th>5</th>\n      <th>6</th>\n      <th>...</th>\n      <th>774</th>\n      <th>775</th>\n      <th>776</th>\n      <th>777</th>\n      <th>778</th>\n      <th>779</th>\n      <th>780</th>\n      <th>781</th>\n      <th>782</th>\n      <th>783</th>\n    </tr>\n  </thead>\n  <tbody>\n    <tr>\n      <th>0</th>\n      <td>1</td>\n      <td>5</td>\n      <td>L</td>\n      <td>1</td>\n      <td>1</td>\n      <td>1</td>\n      <td>4</td>\n      <td>3</td>\n      <td>0</td>\n      <td>0</td>\n      <td>...</td>\n      <td>2</td>\n      <td>1</td>\n      <td>0</td>\n      <td>1</td>\n      <td>2</td>\n      <td>4</td>\n      <td>4</td>\n      <td>4</td>\n      <td>3</td>\n      <td>4</td>\n    </tr>\n    <tr>\n      <th>1</th>\n      <td>2</td>\n      <td>0</td>\n      <td>B</td>\n      <td>0</td>\n      <td>4</td>\n      <td>0</td>\n      <td>0</td>\n      <td>4</td>\n      <td>1</td>\n      <td>1</td>\n      <td>...</td>\n      <td>0</td>\n      <td>3</td>\n      <td>0</td>\n      <td>1</td>\n      <td>4</td>\n      <td>1</td>\n      <td>4</td>\n      <td>2</td>\n      <td>1</td>\n      <td>2</td>\n    </tr>\n    <tr>\n      <th>2</th>\n      <td>3</td>\n      <td>4</td>\n      <td>L</td>\n      <td>1</td>\n      <td>1</td>\n      <td>2</td>\n      <td>2</td>\n      <td>1</td>\n      <td>1</td>\n      <td>1</td>\n      <td>...</td>\n      <td>3</td>\n      <td>3</td>\n      <td>3</td>\n      <td>0</td>\n      <td>2</td>\n      <td>0</td>\n      <td>3</td>\n      <td>0</td>\n      <td>2</td>\n      <td>2</td>\n    </tr>\n    <tr>\n      <th>3</th>\n      <td>4</td>\n      <td>9</td>\n      <td>D</td>\n      <td>1</td>\n      <td>2</td>\n      <td>0</td>\n      <td>2</td>\n      <td>0</td>\n      <td>4</td>\n      <td>0</td>\n      <td>...</td>\n      <td>3</td>\n      <td>3</td>\n      <td>2</td>\n      <td>0</td>\n      <td>1</td>\n      <td>4</td>\n      <td>0</td>\n      <td>0</td>\n      <td>1</td>\n      <td>1</td>\n    </tr>\n    <tr>\n      <th>4</th>\n      <td>5</td>\n      <td>6</td>\n      <td>A</td>\n      <td>3</td>\n      <td>0</td>\n      <td>2</td>\n      <td>4</td>\n      <td>0</td>\n      <td>3</td>\n      <td>0</td>\n      <td>...</td>\n      <td>4</td>\n      <td>4</td>\n      <td>3</td>\n      <td>2</td>\n      <td>1</td>\n      <td>3</td>\n      <td>4</td>\n      <td>3</td>\n      <td>1</td>\n      <td>2</td>\n    </tr>\n    <tr>\n      <th>...</th>\n      <td>...</td>\n      <td>...</td>\n      <td>...</td>\n      <td>...</td>\n      <td>...</td>\n      <td>...</td>\n      <td>...</td>\n      <td>...</td>\n      <td>...</td>\n      <td>...</td>\n      <td>...</td>\n      <td>...</td>\n      <td>...</td>\n      <td>...</td>\n      <td>...</td>\n      <td>...</td>\n      <td>...</td>\n      <td>...</td>\n      <td>...</td>\n      <td>...</td>\n      <td>...</td>\n    </tr>\n    <tr>\n      <th>2043</th>\n      <td>2044</td>\n      <td>6</td>\n      <td>V</td>\n      <td>2</td>\n      <td>4</td>\n      <td>3</td>\n      <td>4</td>\n      <td>2</td>\n      <td>4</td>\n      <td>4</td>\n      <td>...</td>\n      <td>0</td>\n      <td>2</td>\n      <td>2</td>\n      <td>0</td>\n      <td>0</td>\n      <td>1</td>\n      <td>3</td>\n      <td>1</td>\n      <td>4</td>\n      <td>0</td>\n    </tr>\n    <tr>\n      <th>2044</th>\n      <td>2045</td>\n      <td>1</td>\n      <td>L</td>\n      <td>3</td>\n      <td>2</td>\n      <td>2</td>\n      <td>1</td>\n      <td>1</td>\n      <td>4</td>\n      <td>0</td>\n      <td>...</td>\n      <td>2</td>\n      <td>3</td>\n      <td>4</td>\n      <td>2</td>\n      <td>1</td>\n      <td>2</td>\n      <td>3</td>\n      <td>4</td>\n      <td>1</td>\n      <td>1</td>\n    </tr>\n    <tr>\n      <th>2045</th>\n      <td>2046</td>\n      <td>9</td>\n      <td>A</td>\n      <td>4</td>\n      <td>0</td>\n      <td>4</td>\n      <td>0</td>\n      <td>2</td>\n      <td>4</td>\n      <td>4</td>\n      <td>...</td>\n      <td>2</td>\n      <td>3</td>\n      <td>1</td>\n      <td>1</td>\n      <td>3</td>\n      <td>4</td>\n      <td>2</td>\n      <td>2</td>\n      <td>0</td>\n      <td>0</td>\n    </tr>\n    <tr>\n      <th>2046</th>\n      <td>2047</td>\n      <td>0</td>\n      <td>Z</td>\n      <td>2</td>\n      <td>3</td>\n      <td>3</td>\n      <td>0</td>\n      <td>3</td>\n      <td>0</td>\n      <td>4</td>\n      <td>...</td>\n      <td>2</td>\n      <td>3</td>\n      <td>1</td>\n      <td>1</td>\n      <td>0</td>\n      <td>4</td>\n      <td>1</td>\n      <td>4</td>\n      <td>3</td>\n      <td>1</td>\n    </tr>\n    <tr>\n      <th>2047</th>\n      <td>2048</td>\n      <td>5</td>\n      <td>Z</td>\n      <td>4</td>\n      <td>2</td>\n      <td>2</td>\n      <td>1</td>\n      <td>3</td>\n      <td>0</td>\n      <td>0</td>\n      <td>...</td>\n      <td>4</td>\n      <td>2</td>\n      <td>4</td>\n      <td>0</td>\n      <td>4</td>\n      <td>3</td>\n      <td>2</td>\n      <td>4</td>\n      <td>3</td>\n      <td>4</td>\n    </tr>\n  </tbody>\n</table>\n<p>2048 rows × 787 columns</p>\n</div>"
     },
     "metadata": {},
     "execution_count": 2
    }
   ],
   "source": [
    "df = pd.read_csv('./train.csv')\n",
    "df"
   ]
  },
  {
   "cell_type": "code",
   "execution_count": 247,
   "metadata": {
    "tags": []
   },
   "outputs": [
    {
     "output_type": "stream",
     "name": "stdout",
     "text": "(1848, 28, 28, 1) (200, 28, 28, 1)\n"
    }
   ],
   "source": [
    "from sklearn.preprocessing import OneHotEncoder\n",
    "\n",
    "encoder = OneHotEncoder()\n",
    "train_data = df.iloc[:-200, 3:]\n",
    "train_data = np.array(train_data).reshape(-1,28,28,1)\n",
    "train_label = df['digit'][:-200]\n",
    "train_letter = df['letter'][:-200]\n",
    "train_label = encoder.fit_transform(np.array(train_label).reshape(-1,1))\n",
    "train_label = train_label.toarray()\n",
    "\n",
    "test_data = df.iloc[-200:, 3:]\n",
    "test_data = np.array(test_data).reshape(-1,28,28,1)\n",
    "test_label = df['digit'][-200:]\n",
    "test_letter = df['letter'][-200:]\n",
    "test_label = encoder.fit_transform(np.array(test_label).reshape(-1,1))\n",
    "test_label = test_label.toarray()\n"
   ]
  },
  {
   "cell_type": "code",
   "execution_count": 281,
   "metadata": {
    "tags": []
   },
   "outputs": [
    {
     "output_type": "stream",
     "name": "stdout",
     "text": "8 S\n"
    },
    {
     "output_type": "execute_result",
     "data": {
      "text/plain": "<matplotlib.image.AxesImage at 0x7fd6a96cfb10>"
     },
     "metadata": {},
     "execution_count": 281
    },
    {
     "output_type": "display_data",
     "data": {
      "text/plain": "<Figure size 432x288 with 1 Axes>",
      "image/svg+xml": "<?xml version=\"1.0\" encoding=\"utf-8\" standalone=\"no\"?>\n<!DOCTYPE svg PUBLIC \"-//W3C//DTD SVG 1.1//EN\"\n  \"http://www.w3.org/Graphics/SVG/1.1/DTD/svg11.dtd\">\n<!-- Created with matplotlib (https://matplotlib.org/) -->\n<svg height=\"248.518125pt\" version=\"1.1\" viewBox=\"0 0 251.565 248.518125\" width=\"251.565pt\" xmlns=\"http://www.w3.org/2000/svg\" xmlns:xlink=\"http://www.w3.org/1999/xlink\">\n <metadata>\n  <rdf:RDF xmlns:cc=\"http://creativecommons.org/ns#\" xmlns:dc=\"http://purl.org/dc/elements/1.1/\" xmlns:rdf=\"http://www.w3.org/1999/02/22-rdf-syntax-ns#\">\n   <cc:Work>\n    <dc:type rdf:resource=\"http://purl.org/dc/dcmitype/StillImage\"/>\n    <dc:date>2020-08-25T19:34:40.311017</dc:date>\n    <dc:format>image/svg+xml</dc:format>\n    <dc:creator>\n     <cc:Agent>\n      <dc:title>Matplotlib v3.3.1, https://matplotlib.org/</dc:title>\n     </cc:Agent>\n    </dc:creator>\n   </cc:Work>\n  </rdf:RDF>\n </metadata>\n <defs>\n  <style type=\"text/css\">*{stroke-linecap:butt;stroke-linejoin:round;}</style>\n </defs>\n <g id=\"figure_1\">\n  <g id=\"patch_1\">\n   <path d=\"M 0 248.518125 \nL 251.565 248.518125 \nL 251.565 0 \nL 0 0 \nz\n\" style=\"fill:none;\"/>\n  </g>\n  <g id=\"axes_1\">\n   <g id=\"patch_2\">\n    <path d=\"M 26.925 224.64 \nL 244.365 224.64 \nL 244.365 7.2 \nL 26.925 7.2 \nz\n\" style=\"fill:#ffffff;\"/>\n   </g>\n   <g clip-path=\"url(#pdabeca3c66)\">\n    <image height=\"218\" id=\"image57e38356e1\" transform=\"scale(1 -1)translate(0 -218)\" width=\"218\" x=\"26.925\" xlink:href=\"data:image/png;base64,\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\" y=\"-6.64\"/>\n   </g>\n   <g id=\"matplotlib.axis_1\">\n    <g id=\"xtick_1\">\n     <g id=\"line2d_1\">\n      <defs>\n       <path d=\"M 0 0 \nL 0 3.5 \n\" id=\"md32df7fac6\" style=\"stroke:#000000;stroke-width:0.8;\"/>\n      </defs>\n      <g>\n       <use style=\"stroke:#000000;stroke-width:0.8;\" x=\"30.807857\" xlink:href=\"#md32df7fac6\" y=\"224.64\"/>\n      </g>\n     </g>\n     <g id=\"text_1\">\n      <!-- 0 -->\n      <g transform=\"translate(27.626607 239.238437)scale(0.1 -0.1)\">\n       <defs>\n        <path d=\"M 31.78125 66.40625 \nQ 24.171875 66.40625 20.328125 58.90625 \nQ 16.5 51.421875 16.5 36.375 \nQ 16.5 21.390625 20.328125 13.890625 \nQ 24.171875 6.390625 31.78125 6.390625 \nQ 39.453125 6.390625 43.28125 13.890625 \nQ 47.125 21.390625 47.125 36.375 \nQ 47.125 51.421875 43.28125 58.90625 \nQ 39.453125 66.40625 31.78125 66.40625 \nz\nM 31.78125 74.21875 \nQ 44.046875 74.21875 50.515625 64.515625 \nQ 56.984375 54.828125 56.984375 36.375 \nQ 56.984375 17.96875 50.515625 8.265625 \nQ 44.046875 -1.421875 31.78125 -1.421875 \nQ 19.53125 -1.421875 13.0625 8.265625 \nQ 6.59375 17.96875 6.59375 36.375 \nQ 6.59375 54.828125 13.0625 64.515625 \nQ 19.53125 74.21875 31.78125 74.21875 \nz\n\" id=\"DejaVuSans-48\"/>\n       </defs>\n       <use xlink:href=\"#DejaVuSans-48\"/>\n      </g>\n     </g>\n    </g>\n    <g id=\"xtick_2\">\n     <g id=\"line2d_2\">\n      <g>\n       <use style=\"stroke:#000000;stroke-width:0.8;\" x=\"69.636429\" xlink:href=\"#md32df7fac6\" y=\"224.64\"/>\n      </g>\n     </g>\n     <g id=\"text_2\">\n      <!-- 5 -->\n      <g transform=\"translate(66.455179 239.238437)scale(0.1 -0.1)\">\n       <defs>\n        <path d=\"M 10.796875 72.90625 \nL 49.515625 72.90625 \nL 49.515625 64.59375 \nL 19.828125 64.59375 \nL 19.828125 46.734375 \nQ 21.96875 47.46875 24.109375 47.828125 \nQ 26.265625 48.1875 28.421875 48.1875 \nQ 40.625 48.1875 47.75 41.5 \nQ 54.890625 34.8125 54.890625 23.390625 \nQ 54.890625 11.625 47.5625 5.09375 \nQ 40.234375 -1.421875 26.90625 -1.421875 \nQ 22.3125 -1.421875 17.546875 -0.640625 \nQ 12.796875 0.140625 7.71875 1.703125 \nL 7.71875 11.625 \nQ 12.109375 9.234375 16.796875 8.0625 \nQ 21.484375 6.890625 26.703125 6.890625 \nQ 35.15625 6.890625 40.078125 11.328125 \nQ 45.015625 15.765625 45.015625 23.390625 \nQ 45.015625 31 40.078125 35.4375 \nQ 35.15625 39.890625 26.703125 39.890625 \nQ 22.75 39.890625 18.8125 39.015625 \nQ 14.890625 38.140625 10.796875 36.28125 \nz\n\" id=\"DejaVuSans-53\"/>\n       </defs>\n       <use xlink:href=\"#DejaVuSans-53\"/>\n      </g>\n     </g>\n    </g>\n    <g id=\"xtick_3\">\n     <g id=\"line2d_3\">\n      <g>\n       <use style=\"stroke:#000000;stroke-width:0.8;\" x=\"108.465\" xlink:href=\"#md32df7fac6\" y=\"224.64\"/>\n      </g>\n     </g>\n     <g id=\"text_3\">\n      <!-- 10 -->\n      <g transform=\"translate(102.1025 239.238437)scale(0.1 -0.1)\">\n       <defs>\n        <path d=\"M 12.40625 8.296875 \nL 28.515625 8.296875 \nL 28.515625 63.921875 \nL 10.984375 60.40625 \nL 10.984375 69.390625 \nL 28.421875 72.90625 \nL 38.28125 72.90625 \nL 38.28125 8.296875 \nL 54.390625 8.296875 \nL 54.390625 0 \nL 12.40625 0 \nz\n\" id=\"DejaVuSans-49\"/>\n       </defs>\n       <use xlink:href=\"#DejaVuSans-49\"/>\n       <use x=\"63.623047\" xlink:href=\"#DejaVuSans-48\"/>\n      </g>\n     </g>\n    </g>\n    <g id=\"xtick_4\">\n     <g id=\"line2d_4\">\n      <g>\n       <use style=\"stroke:#000000;stroke-width:0.8;\" x=\"147.293571\" xlink:href=\"#md32df7fac6\" y=\"224.64\"/>\n      </g>\n     </g>\n     <g id=\"text_4\">\n      <!-- 15 -->\n      <g transform=\"translate(140.931071 239.238437)scale(0.1 -0.1)\">\n       <use xlink:href=\"#DejaVuSans-49\"/>\n       <use x=\"63.623047\" xlink:href=\"#DejaVuSans-53\"/>\n      </g>\n     </g>\n    </g>\n    <g id=\"xtick_5\">\n     <g id=\"line2d_5\">\n      <g>\n       <use style=\"stroke:#000000;stroke-width:0.8;\" x=\"186.122143\" xlink:href=\"#md32df7fac6\" y=\"224.64\"/>\n      </g>\n     </g>\n     <g id=\"text_5\">\n      <!-- 20 -->\n      <g transform=\"translate(179.759643 239.238437)scale(0.1 -0.1)\">\n       <defs>\n        <path d=\"M 19.1875 8.296875 \nL 53.609375 8.296875 \nL 53.609375 0 \nL 7.328125 0 \nL 7.328125 8.296875 \nQ 12.9375 14.109375 22.625 23.890625 \nQ 32.328125 33.6875 34.8125 36.53125 \nQ 39.546875 41.84375 41.421875 45.53125 \nQ 43.3125 49.21875 43.3125 52.78125 \nQ 43.3125 58.59375 39.234375 62.25 \nQ 35.15625 65.921875 28.609375 65.921875 \nQ 23.96875 65.921875 18.8125 64.3125 \nQ 13.671875 62.703125 7.8125 59.421875 \nL 7.8125 69.390625 \nQ 13.765625 71.78125 18.9375 73 \nQ 24.125 74.21875 28.421875 74.21875 \nQ 39.75 74.21875 46.484375 68.546875 \nQ 53.21875 62.890625 53.21875 53.421875 \nQ 53.21875 48.921875 51.53125 44.890625 \nQ 49.859375 40.875 45.40625 35.40625 \nQ 44.1875 33.984375 37.640625 27.21875 \nQ 31.109375 20.453125 19.1875 8.296875 \nz\n\" id=\"DejaVuSans-50\"/>\n       </defs>\n       <use xlink:href=\"#DejaVuSans-50\"/>\n       <use x=\"63.623047\" xlink:href=\"#DejaVuSans-48\"/>\n      </g>\n     </g>\n    </g>\n    <g id=\"xtick_6\">\n     <g id=\"line2d_6\">\n      <g>\n       <use style=\"stroke:#000000;stroke-width:0.8;\" x=\"224.950714\" xlink:href=\"#md32df7fac6\" y=\"224.64\"/>\n      </g>\n     </g>\n     <g id=\"text_6\">\n      <!-- 25 -->\n      <g transform=\"translate(218.588214 239.238437)scale(0.1 -0.1)\">\n       <use xlink:href=\"#DejaVuSans-50\"/>\n       <use x=\"63.623047\" xlink:href=\"#DejaVuSans-53\"/>\n      </g>\n     </g>\n    </g>\n   </g>\n   <g id=\"matplotlib.axis_2\">\n    <g id=\"ytick_1\">\n     <g id=\"line2d_7\">\n      <defs>\n       <path d=\"M 0 0 \nL -3.5 0 \n\" id=\"ma568570f9a\" style=\"stroke:#000000;stroke-width:0.8;\"/>\n      </defs>\n      <g>\n       <use style=\"stroke:#000000;stroke-width:0.8;\" x=\"26.925\" xlink:href=\"#ma568570f9a\" y=\"11.082857\"/>\n      </g>\n     </g>\n     <g id=\"text_7\">\n      <!-- 0 -->\n      <g transform=\"translate(13.5625 14.882076)scale(0.1 -0.1)\">\n       <use xlink:href=\"#DejaVuSans-48\"/>\n      </g>\n     </g>\n    </g>\n    <g id=\"ytick_2\">\n     <g id=\"line2d_8\">\n      <g>\n       <use style=\"stroke:#000000;stroke-width:0.8;\" x=\"26.925\" xlink:href=\"#ma568570f9a\" y=\"49.911429\"/>\n      </g>\n     </g>\n     <g id=\"text_8\">\n      <!-- 5 -->\n      <g transform=\"translate(13.5625 53.710647)scale(0.1 -0.1)\">\n       <use xlink:href=\"#DejaVuSans-53\"/>\n      </g>\n     </g>\n    </g>\n    <g id=\"ytick_3\">\n     <g id=\"line2d_9\">\n      <g>\n       <use style=\"stroke:#000000;stroke-width:0.8;\" x=\"26.925\" xlink:href=\"#ma568570f9a\" y=\"88.74\"/>\n      </g>\n     </g>\n     <g id=\"text_9\">\n      <!-- 10 -->\n      <g transform=\"translate(7.2 92.539219)scale(0.1 -0.1)\">\n       <use xlink:href=\"#DejaVuSans-49\"/>\n       <use x=\"63.623047\" xlink:href=\"#DejaVuSans-48\"/>\n      </g>\n     </g>\n    </g>\n    <g id=\"ytick_4\">\n     <g id=\"line2d_10\">\n      <g>\n       <use style=\"stroke:#000000;stroke-width:0.8;\" x=\"26.925\" xlink:href=\"#ma568570f9a\" y=\"127.568571\"/>\n      </g>\n     </g>\n     <g id=\"text_10\">\n      <!-- 15 -->\n      <g transform=\"translate(7.2 131.36779)scale(0.1 -0.1)\">\n       <use xlink:href=\"#DejaVuSans-49\"/>\n       <use x=\"63.623047\" xlink:href=\"#DejaVuSans-53\"/>\n      </g>\n     </g>\n    </g>\n    <g id=\"ytick_5\">\n     <g id=\"line2d_11\">\n      <g>\n       <use style=\"stroke:#000000;stroke-width:0.8;\" x=\"26.925\" xlink:href=\"#ma568570f9a\" y=\"166.397143\"/>\n      </g>\n     </g>\n     <g id=\"text_11\">\n      <!-- 20 -->\n      <g transform=\"translate(7.2 170.196362)scale(0.1 -0.1)\">\n       <use xlink:href=\"#DejaVuSans-50\"/>\n       <use x=\"63.623047\" xlink:href=\"#DejaVuSans-48\"/>\n      </g>\n     </g>\n    </g>\n    <g id=\"ytick_6\">\n     <g id=\"line2d_12\">\n      <g>\n       <use style=\"stroke:#000000;stroke-width:0.8;\" x=\"26.925\" xlink:href=\"#ma568570f9a\" y=\"205.225714\"/>\n      </g>\n     </g>\n     <g id=\"text_12\">\n      <!-- 25 -->\n      <g transform=\"translate(7.2 209.024933)scale(0.1 -0.1)\">\n       <use xlink:href=\"#DejaVuSans-50\"/>\n       <use x=\"63.623047\" xlink:href=\"#DejaVuSans-53\"/>\n      </g>\n     </g>\n    </g>\n   </g>\n   <g id=\"patch_3\">\n    <path d=\"M 26.925 224.64 \nL 26.925 7.2 \n\" style=\"fill:none;stroke:#000000;stroke-linecap:square;stroke-linejoin:miter;stroke-width:0.8;\"/>\n   </g>\n   <g id=\"patch_4\">\n    <path d=\"M 244.365 224.64 \nL 244.365 7.2 \n\" style=\"fill:none;stroke:#000000;stroke-linecap:square;stroke-linejoin:miter;stroke-width:0.8;\"/>\n   </g>\n   <g id=\"patch_5\">\n    <path d=\"M 26.925 224.64 \nL 244.365 224.64 \n\" style=\"fill:none;stroke:#000000;stroke-linecap:square;stroke-linejoin:miter;stroke-width:0.8;\"/>\n   </g>\n   <g id=\"patch_6\">\n    <path d=\"M 26.925 7.2 \nL 244.365 7.2 \n\" style=\"fill:none;stroke:#000000;stroke-linecap:square;stroke-linejoin:miter;stroke-width:0.8;\"/>\n   </g>\n  </g>\n </g>\n <defs>\n  <clipPath id=\"pdabeca3c66\">\n   <rect height=\"217.44\" width=\"217.44\" x=\"26.925\" y=\"7.2\"/>\n  </clipPath>\n </defs>\n</svg>\n",
      "image/png": "[encoded data removed]"
     },
     "metadata": {
      "needs_background": "light"
     }
    }
   ],
   "source": [
    "index = 306\n",
    "sample = np.array(train_data[index,:])\n",
    "print(df.iloc[index,1],df.iloc[index,2])\n",
    "sample = sample.reshape(28,28)\n",
    "plt.imshow(sample,cmap='binary')"
   ]
  },
  {
   "cell_type": "code",
   "execution_count": 275,
   "metadata": {},
   "outputs": [],
   "source": [
    "from keras.models import Sequential\n",
    "from keras import optimizers\n",
    "from keras.layers import Dense, Activation, Flatten, Conv2D, MaxPooling2D,BatchNormalization\n",
    "\n",
    "def cnn():\n",
    "    model = Sequential()\n",
    "\n",
    "    model.add(Conv2D(input_shape=(28,28,1),filters = 25, kernel_size = (3,3), strides = (1,1), padding = 'same'))\n",
    "    model.add(Activation('relu'))\n",
    "    model.add(MaxPool2D(pool_size=(2,2)))\n",
    "\n",
    "    model.add(Conv2D(filters = 28, kernel_size = (3,3), strides = (1,1), padding = 'same'))\n",
    "    model.add(Conv2D(filters = 28, kernel_size = (1,1), strides = (1,1), padding = 'same'))\n",
    "    model.add(BatchNormalization())\n",
    "    model.add(Activation('relu'))\n",
    "    model.add(MaxPooling2D(pool_size = (2,2)))\n",
    "    model.add(Conv2D(filters = 28, kernel_size = (3,3), strides = (1,1), padding = 'same'))\n",
    "    model.add(BatchNormalization())\n",
    "    model.add(Activation('relu'))\n",
    "    model.add(Conv2D(filters = 28, kernel_size = (3,3), strides = (1,1), padding = 'same'))\n",
    "    model.add(Conv2D(filters = 28, kernel_size = (1,1), strides = (1,1), padding = 'same'))\n",
    "    model.add(BatchNormalization())\n",
    "    model.add(Activation('relu'))\n",
    "    model.add(MaxPooling2D(pool_size = (2,2)))\n",
    "    model.add(Conv2D(filters = 28, kernel_size = (3,3), strides = (1,1), padding = 'same'))\n",
    "    model.add(BatchNormalization())\n",
    "    model.add(Activation('relu'))\n",
    "    model.add(Conv2D(filters = 28, kernel_size = (3,3), strides = (1,1), padding = 'same'))\n",
    "    model.add(BatchNormalization())\n",
    "    model.add(Activation('relu'))\n",
    "    model.add(MaxPooling2D(pool_size = (2,2)))\n",
    "\n",
    "    model.add(Flatten())\n",
    "    # dense layer with 50 neurons\n",
    "    model.add(Dense(50, activation = 'relu'))\n",
    "    # final layer with 10 neurons to classify the instances\n",
    "    model.add(Dense(10, activation = 'softmax'))\n",
    "\n",
    "    adam = optimizers.Adam(lr = 0.001)\n",
    "    model.compile(loss = 'categorical_crossentropy', optimizer = adam, metrics = ['accuracy'])\n",
    "\n",
    "    return model\n"
   ]
  },
  {
   "cell_type": "code",
   "execution_count": 276,
   "metadata": {
    "tags": []
   },
   "outputs": [],
   "source": [
    "model = cnn()"
   ]
  },
  {
   "cell_type": "code",
   "execution_count": 279,
   "metadata": {
    "tags": []
   },
   "outputs": [
    {
     "output_type": "stream",
     "name": "stdout",
     "text": "Train on 1478 samples, validate on 370 samples\nEpoch 1/30\n1478/1478 [==============================] - 1s 789us/step - loss: 0.0347 - accuracy: 0.9892 - val_loss: 1.3187 - val_accuracy: 0.6919\nEpoch 2/30\n1478/1478 [==============================] - 1s 780us/step - loss: 0.0456 - accuracy: 0.9871 - val_loss: 1.1564 - val_accuracy: 0.7351\nEpoch 3/30\n1478/1478 [==============================] - 1s 738us/step - loss: 0.0103 - accuracy: 0.9986 - val_loss: 1.0860 - val_accuracy: 0.7432\nEpoch 4/30\n1478/1478 [==============================] - 1s 743us/step - loss: 0.0038 - accuracy: 1.0000 - val_loss: 1.0900 - val_accuracy: 0.7324\nEpoch 5/30\n1478/1478 [==============================] - 1s 750us/step - loss: 0.0028 - accuracy: 1.0000 - val_loss: 1.0798 - val_accuracy: 0.7351\nEpoch 6/30\n1478/1478 [==============================] - 1s 754us/step - loss: 0.0022 - accuracy: 1.0000 - val_loss: 1.1007 - val_accuracy: 0.7378\nEpoch 7/30\n1478/1478 [==============================] - 1s 759us/step - loss: 0.0019 - accuracy: 1.0000 - val_loss: 1.0962 - val_accuracy: 0.7324\nEpoch 8/30\n1478/1478 [==============================] - 1s 760us/step - loss: 0.0020 - accuracy: 1.0000 - val_loss: 1.0914 - val_accuracy: 0.7297\nEpoch 9/30\n1478/1478 [==============================] - 1s 764us/step - loss: 0.0023 - accuracy: 1.0000 - val_loss: 1.0858 - val_accuracy: 0.7432\nEpoch 10/30\n1478/1478 [==============================] - 1s 726us/step - loss: 0.0020 - accuracy: 1.0000 - val_loss: 1.0874 - val_accuracy: 0.7351\nEpoch 11/30\n1478/1478 [==============================] - 1s 734us/step - loss: 0.0022 - accuracy: 1.0000 - val_loss: 1.0988 - val_accuracy: 0.7514\nEpoch 12/30\n1478/1478 [==============================] - 1s 737us/step - loss: 0.0068 - accuracy: 0.9986 - val_loss: 1.1991 - val_accuracy: 0.7378\nEpoch 13/30\n1478/1478 [==============================] - 1s 742us/step - loss: 0.0044 - accuracy: 0.9993 - val_loss: 1.1211 - val_accuracy: 0.7405\nEpoch 14/30\n1478/1478 [==============================] - 1s 736us/step - loss: 0.0017 - accuracy: 1.0000 - val_loss: 1.0933 - val_accuracy: 0.7378\nEpoch 15/30\n1478/1478 [==============================] - 1s 735us/step - loss: 0.0015 - accuracy: 1.0000 - val_loss: 1.0844 - val_accuracy: 0.7432\nEpoch 16/30\n1478/1478 [==============================] - 1s 740us/step - loss: 0.0013 - accuracy: 1.0000 - val_loss: 1.0855 - val_accuracy: 0.7378\nEpoch 17/30\n1478/1478 [==============================] - 1s 735us/step - loss: 0.0013 - accuracy: 1.0000 - val_loss: 1.0883 - val_accuracy: 0.7297\nEpoch 18/30\n1478/1478 [==============================] - 1s 733us/step - loss: 0.0013 - accuracy: 1.0000 - val_loss: 1.0926 - val_accuracy: 0.7351\nEpoch 19/30\n1478/1478 [==============================] - 1s 743us/step - loss: 0.0014 - accuracy: 1.0000 - val_loss: 1.1341 - val_accuracy: 0.7459\nEpoch 20/30\n1478/1478 [==============================] - 1s 731us/step - loss: 0.0012 - accuracy: 1.0000 - val_loss: 1.1288 - val_accuracy: 0.7324\nEpoch 21/30\n1478/1478 [==============================] - 1s 739us/step - loss: 0.0011 - accuracy: 1.0000 - val_loss: 1.1243 - val_accuracy: 0.7324\nEpoch 22/30\n1478/1478 [==============================] - 1s 740us/step - loss: 9.9211e-04 - accuracy: 1.0000 - val_loss: 1.1227 - val_accuracy: 0.7324\nEpoch 23/30\n1478/1478 [==============================] - 1s 726us/step - loss: 9.0747e-04 - accuracy: 1.0000 - val_loss: 1.1311 - val_accuracy: 0.7324\nEpoch 24/30\n1478/1478 [==============================] - 1s 740us/step - loss: 9.2199e-04 - accuracy: 1.0000 - val_loss: 1.1649 - val_accuracy: 0.7297\nEpoch 25/30\n1478/1478 [==============================] - 1s 728us/step - loss: 0.0011 - accuracy: 1.0000 - val_loss: 1.1450 - val_accuracy: 0.7297\nEpoch 26/30\n1478/1478 [==============================] - 1s 730us/step - loss: 0.0021 - accuracy: 1.0000 - val_loss: 1.1908 - val_accuracy: 0.7270\nEpoch 27/30\n1478/1478 [==============================] - 1s 733us/step - loss: 0.0011 - accuracy: 1.0000 - val_loss: 1.1580 - val_accuracy: 0.7405\nEpoch 28/30\n1478/1478 [==============================] - 1s 733us/step - loss: 8.6089e-04 - accuracy: 1.0000 - val_loss: 1.1509 - val_accuracy: 0.7541\nEpoch 29/30\n1478/1478 [==============================] - 1s 773us/step - loss: 7.8785e-04 - accuracy: 1.0000 - val_loss: 1.1492 - val_accuracy: 0.7568\nEpoch 30/30\n1478/1478 [==============================] - 1s 780us/step - loss: 9.0881e-04 - accuracy: 1.0000 - val_loss: 1.1510 - val_accuracy: 0.7541\n"
    },
    {
     "output_type": "execute_result",
     "data": {
      "text/plain": "<keras.callbacks.callbacks.History at 0x7fd6a96236d0>"
     },
     "metadata": {},
     "execution_count": 279
    }
   ],
   "source": [
    "model.fit(train_data,train_label,batch_size=64,epochs=30,validation_split=0.2)"
   ]
  },
  {
   "cell_type": "code",
   "execution_count": 280,
   "metadata": {
    "tags": []
   },
   "outputs": [
    {
     "output_type": "execute_result",
     "data": {
      "text/plain": "0.77"
     },
     "metadata": {},
     "execution_count": 280
    }
   ],
   "source": [
    "from sklearn.metrics import f1_score\n",
    "from sklearn.metrics import accuracy_score\n",
    "\n",
    "predict = model.predict(test_data)\n",
    "result = np.argmax(predict,axis=1)\n",
    "accuracy_score(result,df['digit'][-200:])"
   ]
  },
  {
   "cell_type": "code",
   "execution_count": 285,
   "metadata": {},
   "outputs": [
    {
     "output_type": "execute_result",
     "data": {
      "text/plain": "(array([9, 7, 0, 6, 0, 8, 8, 8, 9, 2, 5, 6, 2, 3, 5, 2, 1, 4, 5, 3, 0, 1,\n        7, 7, 3, 3, 2, 5, 9, 3, 2, 3, 5, 1, 9, 8, 5, 4, 8, 7, 0, 6, 2, 1,\n        4, 3, 9, 5, 1, 3, 9, 8, 2, 4, 9, 4, 7, 7, 6, 2, 1, 2, 6, 5, 3, 3,\n        9, 9, 6, 8, 8, 6, 5, 7, 6, 5, 0, 9, 3, 4, 1, 5, 3, 8, 9, 5, 0, 8,\n        7, 9, 7, 8, 9, 9, 7, 6, 1, 8, 9, 7, 6, 4, 1, 6, 2, 0, 1, 4, 8, 2,\n        4, 0, 1, 0, 8, 4, 1, 3, 3, 5, 8, 0, 1, 5, 1, 4, 0, 1, 3, 6, 8, 9,\n        0, 1, 8, 5, 7, 6, 9, 2, 0, 1, 0, 4, 9, 1, 9, 3, 5, 0, 3, 7, 4, 2,\n        9, 4, 6, 3, 3, 4, 7, 8, 9, 9, 1, 2, 9, 1, 2, 1, 1, 0, 1, 5, 7, 7,\n        7, 7, 5, 9, 6, 8, 4, 2, 6, 0, 2, 8, 4, 6, 2, 8, 2, 8, 2, 6, 1, 9,\n        0, 5]),\n array([9, 9, 0, 6, 0, 8, 8, 8, 7, 2, 5, 6, 3, 3, 5, 2, 1, 5, 5, 3, 0, 1,\n        1, 7, 3, 3, 2, 5, 9, 5, 3, 5, 5, 4, 9, 8, 3, 4, 8, 7, 0, 0, 0, 6,\n        4, 3, 9, 5, 1, 3, 9, 8, 6, 4, 9, 4, 7, 2, 6, 3, 1, 2, 6, 5, 3, 3,\n        8, 8, 6, 8, 8, 6, 0, 3, 2, 5, 0, 9, 3, 4, 8, 5, 3, 8, 9, 5, 0, 8,\n        2, 9, 9, 8, 9, 4, 7, 6, 3, 2, 9, 4, 6, 4, 8, 6, 2, 0, 1, 8, 9, 2,\n        4, 0, 3, 0, 8, 4, 1, 3, 3, 5, 8, 0, 1, 6, 1, 1, 0, 1, 3, 6, 8, 9,\n        0, 1, 8, 5, 7, 6, 4, 6, 0, 1, 0, 4, 9, 1, 9, 3, 5, 0, 3, 7, 4, 2,\n        9, 8, 6, 2, 3, 4, 7, 8, 9, 9, 1, 2, 5, 1, 2, 1, 1, 0, 8, 5, 7, 7,\n        9, 7, 5, 9, 6, 8, 4, 2, 6, 0, 7, 8, 4, 6, 4, 3, 2, 2, 6, 6, 1, 9,\n        0, 5]))"
     },
     "metadata": {},
     "execution_count": 285
    }
   ],
   "source": [
    "result,np.array(df['digit'][-200:])"
   ]
  },
  {
   "cell_type": "code",
   "execution_count": 206,
   "metadata": {},
   "outputs": [],
   "source": [
    "pure_test = pd.read_csv('./test.csv')"
   ]
  },
  {
   "cell_type": "code",
   "execution_count": 214,
   "metadata": {},
   "outputs": [],
   "source": [
    "test_data = np.array(pure_test.iloc[:,2:]).reshape(-1,28,28,1)"
   ]
  },
  {
   "cell_type": "code",
   "execution_count": 217,
   "metadata": {},
   "outputs": [
    {
     "output_type": "execute_result",
     "data": {
      "text/plain": "array([6, 9, 3, ..., 6, 1, 0])"
     },
     "metadata": {},
     "execution_count": 217
    }
   ],
   "source": [
    "result = model.predict(test_data)\n",
    "result = np.argmax(result,axis=1)"
   ]
  },
  {
   "cell_type": "code",
   "execution_count": 218,
   "metadata": {},
   "outputs": [],
   "source": [
    "submission = pd.read_csv('./submission.csv')"
   ]
  },
  {
   "cell_type": "code",
   "execution_count": 219,
   "metadata": {},
   "outputs": [],
   "source": [
    "submission['digit'] = result"
   ]
  },
  {
   "cell_type": "code",
   "execution_count": 220,
   "metadata": {},
   "outputs": [],
   "source": [
    "submission.to_csv('./document.csv',sep=',',index=False)"
   ]
  },
  {
   "cell_type": "code",
   "execution_count": 328,
   "metadata": {},
   "outputs": [],
   "source": [
    "from sklearn.preprocessing import OrdinalEncoder\n",
    "\n",
    "ord_encoder = OrdinalEncoder()\n",
    "letter = ord_encoder.fit_transform(np.array(df['letter']).reshape(-1,1))\n",
    "digit = np.array(df['digit']).reshape(-1,1)\n",
    "len = digit.shape[0]\n",
    "train_len = int(len*0.8)\n",
    "x_train,  x_test, y_train, y_test = df.iloc[:train_len,3:],df.iloc[train_len:,3:],digit[:train_len,:],digit[train_len:,:]\n",
    "x_train = np.array(x_train).reshape(-1,784)\n",
    "x_test = np.array(x_test).reshape(-1,784)"
   ]
  },
  {
   "cell_type": "code",
   "execution_count": 336,
   "metadata": {},
   "outputs": [],
   "source": [
    "x_train = np.concatenate((x_train,letter[:train_len]),axis=1)\n",
    "x_test = np.concatenate((x_test,letter[train_len:]),axis=1)"
   ]
  },
  {
   "cell_type": "code",
   "execution_count": 320,
   "metadata": {},
   "outputs": [
    {
     "output_type": "execute_result",
     "data": {
      "text/plain": "GridSearchCV(cv=5, estimator=RandomForestClassifier(),\n             param_grid=[{'bootstrap': [False],\n                          'n_estimators': [1, 10, 100, 1000]}],\n             return_train_score=True, scoring='neg_mean_squared_error')"
     },
     "metadata": {},
     "execution_count": 320
    }
   ],
   "source": [
    "from sklearn.model_selection import GridSearchCV\n",
    "from sklearn.ensemble import RandomForestClassifier\n",
    "\n",
    "r_forest = RandomForestClassifier()\n",
    "param = [\n",
    "    {'n_estimators':[1,10,100,1000],'bootstrap':[False]}\n",
    "    ]\n",
    "\n",
    "grid = GridSearchCV(r_forest,param, cv=5, scoring='neg_mean_squared_error',return_train_score=True)\n",
    "grid.fit(x_train,y_train)"
   ]
  },
  {
   "cell_type": "code",
   "execution_count": 340,
   "metadata": {},
   "outputs": [
    {
     "output_type": "execute_result",
     "data": {
      "text/plain": "0.4853658536585366"
     },
     "metadata": {},
     "execution_count": 340
    }
   ],
   "source": [
    "predict = grid.predict(x_test)\n",
    "\n",
    "accuracy_score(predict,y_test)"
   ]
  },
  {
   "cell_type": "code",
   "execution_count": null,
   "metadata": {},
   "outputs": [],
   "source": []
  }
 ]
}